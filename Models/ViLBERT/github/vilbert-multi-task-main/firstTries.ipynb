{
 "cells": [
  {
   "cell_type": "code",
   "execution_count": 1,
   "metadata": {},
   "outputs": [],
   "source": [
    "import sys\n",
    "import os\n",
    "import torch\n",
    "import yaml\n",
    "import jsonlines\n",
    "#import logger\n",
    "\n",
    "from easydict import EasyDict as edict\n",
    "from pytorch_transformers.tokenization_bert import BertTokenizer\n",
    "#from vilbert.datasets import ConceptCapLoaderTrain, ConceptCapLoaderVal\n",
    "from vilbert.vilbert import VILBertForVLTasks, BertConfig, BertForMultiModalPreTraining, BertLayerNorm , GeLU\n",
    "#from vilbert.task_utils import LoadDatasetEval\n",
    "\n",
    "import numpy as np\n",
    "import matplotlib.pyplot as plt\n",
    "import PIL\n",
    "import _pickle as cPickle\n",
    "from maskrcnn_benchmark.config import cfg\n",
    "from maskrcnn_benchmark.layers import nms\n",
    "from maskrcnn_benchmark.modeling.detector import build_detection_model\n",
    "from maskrcnn_benchmark.structures.image_list import to_image_list\n",
    "from maskrcnn_benchmark.utils.model_serialization import load_state_dict\n",
    "from PIL import Image\n",
    "import cv2\n",
    "import argparse\n",
    "import glob\n",
    "from types import SimpleNamespace\n",
    "import pdb\n",
    "\n",
    "\n",
    "from tensorboardX import SummaryWriter\n",
    "writter = SummaryWriter()\n"
   ]
  },
  {
   "cell_type": "code",
   "execution_count": 2,
   "metadata": {},
   "outputs": [],
   "source": [
    "from typing import Any, Dict, List\n",
    "import random\n",
    "import os\n",
    "\n",
    "import torch\n",
    "from torch.utils.data import Dataset, DataLoader\n",
    "import numpy as np\n",
    "import _pickle as cPickle\n",
    "\n",
    "from pytorch_transformers.tokenization_bert import BertTokenizer\n",
    "\n",
    "import jsonlines\n",
    "import sys\n",
    "import pdb\n",
    "import torch.nn as nn"
   ]
  },
  {
   "cell_type": "markdown",
   "metadata": {},
   "source": [
    "# ViLBERT for Image classification class"
   ]
  },
  {
   "cell_type": "markdown",
   "metadata": {},
   "source": [
    "## 0.1 Utils"
   ]
  },
  {
   "cell_type": "code",
   "execution_count": 3,
   "metadata": {},
   "outputs": [],
   "source": []
  },
  {
   "cell_type": "code",
   "execution_count": 4,
   "metadata": {},
   "outputs": [],
   "source": [
    "class VILBertForImageClassification(torch.nn.Module):\n",
    "\n",
    "    def __init__(self,config_file, num_labels, from_pretrained, default_gpu=True):\n",
    "        \"\"\" Vilbert Model adapted to perform image classification. The output of the visual \n",
    "\n",
    "        \"\"\"\n",
    "        super(VILBertForImageClassification,self).__init__()\n",
    "        # Bert configuration\n",
    "        self.config = BertConfig.from_json_file(config_file)\n",
    "        #ViLBERT model\n",
    "        self.vilbertBase = VILBertForVLTasks.from_pretrained(\n",
    "            from_pretrained,\n",
    "            config=self.config,\n",
    "            num_labels=num_labels,\n",
    "            default_gpu=default_gpu,\n",
    "        )\n",
    "\n",
    "        # Last fully connected layer (design taken from original paper)\n",
    "        self.ImageClassifFC = nn.Sequential(\n",
    "            nn.Linear(self.config.bi_hidden_size, self.config.bi_hidden_size * 2),\n",
    "            GeLU(),\n",
    "            BertLayerNorm(self.config.bi_hidden_size * 2 , eps=1e-12),\n",
    "            nn.Linear(self.config.bi_hidden_size * 2 , num_labels),\n",
    "        )\n",
    "\n",
    "\n",
    "    def forward(\n",
    "        self,\n",
    "        input_txt,\n",
    "        input_imgs,\n",
    "        image_loc,\n",
    "        token_type_ids=None,\n",
    "        attention_mask=None,\n",
    "        image_attention_mask=None,\n",
    "        co_attention_mask=None,\n",
    "        task_ids=None,\n",
    "        output_all_encoded_layers=False,\n",
    "        output_all_attention_masks=False,\n",
    "    ):\n",
    "\n",
    "        # Forward pass through the \n",
    "        vil_prediction, vil_prediction_gqa, vil_logit, vil_binary_prediction, vil_tri_prediction, vision_prediction, vision_logit, linguisic_prediction, linguisic_logit, all_attention_mask, sequence_output_v, pooled_output_v = self.vilbertBase(\n",
    "            input_txt, input_imgs, image_loc, token_type_ids, attention_mask, image_attention_mask, co_attention_mask, task_ids, output_all_encoded_layers, output_all_attention_masks,\n",
    "        )\n",
    "\n",
    "        # get image logits (use visual pooled output which is an overall represerntation of the image features)\n",
    "        imageLogits = self.ImageClassifFC(pooled_output_v)\n",
    "\n",
    "    \n",
    "\n",
    "        return (\n",
    "            imageLogits,\n",
    "            vil_prediction,\n",
    "            vil_prediction_gqa,\n",
    "            vil_logit,\n",
    "            vil_binary_prediction,\n",
    "            vil_tri_prediction,\n",
    "            vision_prediction,\n",
    "            vision_logit,\n",
    "            linguisic_prediction,\n",
    "            linguisic_logit,\n",
    "            all_attention_mask,\n",
    "            sequence_output_v, ## added by Alejandro Hernandez Díaz\n",
    "            pooled_output_v\n",
    "        )"
   ]
  },
  {
   "cell_type": "code",
   "execution_count": 5,
   "metadata": {},
   "outputs": [],
   "source": [
    "# Demo Arguments\n",
    "args = SimpleNamespace(from_pretrained= \"save/pretrained_model.bin\",\n",
    "                       bert_model=\"bert-base-uncased\",\n",
    "                       config_file=\"config/bert_base_6layer_6conect.json\",\n",
    "                       max_seq_length=101,\n",
    "                       train_batch_size=1,\n",
    "                       do_lower_case=True,\n",
    "                       predict_feature=False,\n",
    "                       seed=42,\n",
    "                       num_workers=0,\n",
    "                       baseline=False,\n",
    "                       img_weight=1,\n",
    "                       distributed=False,\n",
    "                       objective=1,\n",
    "                       visual_target=0,\n",
    "                       dynamic_attention=False,\n",
    "                       task_specific_tokens=True,\n",
    "                       tasks='1',\n",
    "                       save_name='',\n",
    "                       in_memory=False,\n",
    "                       batch_size=1,\n",
    "                       local_rank=-1,\n",
    "                       split='mteval',\n",
    "                       clean_train_sets=True\n",
    "                      )\n",
    "num_labels = 350\n",
    "default_gpu=True\n",
    "config = BertConfig.from_json_file(args.config_file)\n",
    "#model = VILBertForVLTasks.from_pretrained(\n",
    "#            args.from_pretrained,\n",
    " #           config=config,\n",
    " #           num_labels=num_labels,\n",
    "#            default_gpu=default_gpu,\n",
    "#        )\n",
    "\n",
    "newmodel = VILBertForImageClassification(args.config_file,350,args.from_pretrained)"
   ]
  },
  {
   "cell_type": "code",
   "execution_count": 33,
   "metadata": {},
   "outputs": [
    {
     "name": "stdout",
     "output_type": "stream",
     "text": [
      "(101, 2048)\n"
     ]
    }
   ],
   "source": [
    "from vilbert.datasets._image_features_reader import ImageFeaturesH5Reader\n",
    "\n",
    "Ireader = ImageFeaturesH5Reader(\"data/prueba.lmdb\")\n",
    "features, num_boxes, boxes, _ = Ireader[\"Places365_val_00000003\"]\n",
    "\n",
    "print((features.shape))\n"
   ]
  },
  {
   "cell_type": "code",
   "execution_count": 12,
   "metadata": {},
   "outputs": [
    {
     "name": "stdout",
     "output_type": "stream",
     "text": [
      "{'id': 1, 'img_name': '-user-HS400-ah02299-Desktop-lxmert-totest-Places365_val_00000002', 'img_path': '-user-HS400-ah02299-Desktop-lxmert-totest-Places365_val_00000002.jpg', 'label': 358}\n"
     ]
    }
   ],
   "source": [
    "import json\n",
    "annotations_path = \"/mnt/c/Users/aleja/Desktop/MSc Project/Implementation/Models/Dataset_Utilities/train.json\"\n",
    "file = open(annotations_path)\n",
    "with open(annotations_path) as reader:\n",
    "    for annotation in json.load(reader):\n",
    "        print(annotation)\n",
    "        break"
   ]
  },
  {
   "cell_type": "markdown",
   "metadata": {},
   "source": [
    "# DATASET CLASS \n"
   ]
  },
  {
   "cell_type": "markdown",
   "metadata": {},
   "source": [
    "### 0.1 Imports"
   ]
  },
  {
   "cell_type": "code",
   "execution_count": 52,
   "metadata": {},
   "outputs": [],
   "source": [
    "from typing import Any, Dict, List\n",
    "import random\n",
    "import os\n",
    "\n",
    "import torch\n",
    "from torch.utils.data import Dataset, DataLoader\n",
    "import numpy as np\n",
    "import _pickle as cPickle\n",
    "\n",
    "from pytorch_transformers.tokenization_bert import BertTokenizer\n",
    "\n",
    "import jsonlines\n",
    "import sys\n",
    "import pdb\n",
    "from pytorch_transformers.tokenization_bert import BertTokenizer"
   ]
  },
  {
   "cell_type": "markdown",
   "metadata": {},
   "source": [
    "### 0.2 Utils"
   ]
  },
  {
   "cell_type": "code",
   "execution_count": 123,
   "metadata": {},
   "outputs": [],
   "source": [
    "#### UTILS ###\n",
    "def _create_entry(item): # \n",
    "    entry = {\n",
    "        \"id\": item[\"id\"],\n",
    "        \"img_path\": item[\"img_path\"],\n",
    "        \"label\": item[\"label\"],\n",
    "        \"db_id\": item[\"db_id\"],\n",
    "        \"text_input\": item[\"text_input\"],\n",
    "        \"input_mask\": item[\"input_mask\"],\n",
    "        \"segment_ids\": item[\"segment_ids\"]\n",
    "    }\n",
    "    return entry\n",
    "\n",
    "def _load_dataset(annotations_path): ## \n",
    "    \"\"\"Load entries\n",
    "\n",
    "    dataroot: root path of dataset\n",
    "    name: 'train', 'val', 'test'\n",
    "    annotations_pathI: path to the jsonline file for the dataset\n",
    "    \"\"\"\n",
    "    with jsonlines.open(annotations_path) as reader:\n",
    "\n",
    "        items = []\n",
    "        count = 0\n",
    "        for annotation in reader:\n",
    "            dictionary = {}\n",
    "            dictionary[\"id\"] = int(annotation[\"id\"])\n",
    "            dictionary[\"img_path\"] = str(annotation[\"img_path\"])\n",
    "            dictionary[\"label\"] = int(annotation[\"label\"])\n",
    "            # \"[CLS] [SEP]\" == [101, 102] when encoded by bert tokenizer\n",
    "            dictionary[\"text_input\"] = [101,102]\n",
    "\n",
    "            ### FIND OUT REAL NAME OF FILES FOR SERVER ~~~~~~~~~~~~~~~~~~~~~~~~~~~~~~~\n",
    "            dictionary[\"db_id\"] = str(annotation[\"img_path\"].split(\".\")[0])\n",
    "\n",
    "            dictionary[\"input_mask\"] = [1] * len(dictionary[\"text_input\"])\n",
    "            dictionary[\"segment_ids\"] = [0] * len(dictionary[\"text_input\"])\n",
    "            items.append(dictionary)\n",
    "            count += 1\n",
    "            \n",
    "    entries = []\n",
    "    for item in items:\n",
    "        entries.append(_create_entry(item))\n",
    "    return entries\n",
    "\n",
    " "
   ]
  },
  {
   "cell_type": "markdown",
   "metadata": {},
   "source": [
    "### 1. Dataset class"
   ]
  },
  {
   "cell_type": "code",
   "execution_count": 131,
   "metadata": {},
   "outputs": [],
   "source": [
    "class Places365(Dataset):\n",
    "    def __init__(\n",
    "        self,\n",
    "        annotations_jsonpath: str,\n",
    "        image_features_reader: ImageFeaturesH5Reader,\n",
    "        max_region_num: int = 37\n",
    "    ):\n",
    "        super().__init__()\n",
    "        self._max_region_num = max_region_num\n",
    "        self.num_labels = 365\n",
    "        self._image_features_reader = image_features_reader\n",
    "        self.entries = _load_dataset(annotations_jsonpath)\n",
    "\n",
    "\n",
    "    def __getitem__(self, index):\n",
    "        entry = self.entries[index]\n",
    "        db_id = entry[\"db_id\"]\n",
    "        features, num_boxes, boxes, _ = self._image_features_reader[db_id]\n",
    "        \n",
    "        mix_num_boxes = min(int(num_boxes), self._max_region_num)\n",
    "        mix_boxes_pad = np.zeros((self._max_region_num, 5))\n",
    "        mix_features_pad = np.zeros((self._max_region_num, 2048))\n",
    "\n",
    "        image_mask = [1] * (int(mix_num_boxes))\n",
    "        while len(image_mask) < self._max_region_num:\n",
    "            image_mask.append(0)\n",
    "\n",
    "        mix_boxes_pad[:mix_num_boxes] = boxes[:mix_num_boxes]\n",
    "        mix_features_pad[:mix_num_boxes] = features[:mix_num_boxes]\n",
    "\n",
    "        features = torch.tensor(mix_features_pad).float()\n",
    "        image_mask = torch.tensor(image_mask).long()\n",
    "        spatials = torch.tensor(mix_boxes_pad).float()\n",
    "        textInput = torch.tensor(entry[\"text_input\"])\n",
    "\n",
    "\n",
    "        co_attention_mask = torch.zeros((self._max_region_num, 30))\n",
    "        target = torch.zeros(self.num_labels)\n",
    "\n",
    "        labels = entry[\"label\"]\n",
    "        if labels is not None:\n",
    "            target.scatter_(0, torch.tensor(labels), 1)\n",
    "\n",
    "        input_mask = torch.from_numpy(np.array(entry[\"input_mask\"]))\n",
    "        segment_ids = torch.from_numpy(np.array(entry[\"segment_ids\"]))\n",
    "        return (\n",
    "            textInput,\n",
    "            features,\n",
    "            spatials,\n",
    "            segment_ids,\n",
    "            input_mask,\n",
    "            image_mask,\n",
    "            co_attention_mask,\n",
    "            #question_id,\n",
    "            target,\n",
    "        )\n",
    "\n",
    "    def __len__(self):\n",
    "        return len(self.entries)"
   ]
  },
  {
   "cell_type": "markdown",
   "metadata": {},
   "source": [
    "### 1.1 DataLoader"
   ]
  },
  {
   "cell_type": "markdown",
   "metadata": {},
   "source": [
    "#########################################################\n"
   ]
  },
  {
   "cell_type": "code",
   "execution_count": 5,
   "metadata": {},
   "outputs": [
    {
     "ename": "NameError",
     "evalue": "name 'imagefeature' is not defined",
     "output_type": "error",
     "traceback": [
      "\u001b[0;31m---------------------------------------------------------------------------\u001b[0m",
      "\u001b[0;31mNameError\u001b[0m                                 Traceback (most recent call last)",
      "\u001b[0;32m<ipython-input-5-77c1cf549bb9>\u001b[0m in \u001b[0;36m<module>\u001b[0;34m\u001b[0m\n\u001b[1;32m      1\u001b[0m \u001b[0mmodel\u001b[0m\u001b[0;34m.\u001b[0m\u001b[0meval\u001b[0m\u001b[0;34m(\u001b[0m\u001b[0;34m)\u001b[0m\u001b[0;34m\u001b[0m\u001b[0;34m\u001b[0m\u001b[0m\n\u001b[0;32m----> 2\u001b[0;31m \u001b[0mvil_prediction\u001b[0m\u001b[0;34m,\u001b[0m \u001b[0mvil_prediction_gqa\u001b[0m\u001b[0;34m,\u001b[0m \u001b[0mvil_logit\u001b[0m\u001b[0;34m,\u001b[0m \u001b[0mvil_binary_prediction\u001b[0m\u001b[0;34m,\u001b[0m \u001b[0mvil_tri_prediction\u001b[0m\u001b[0;34m,\u001b[0m \u001b[0mvision_prediction\u001b[0m\u001b[0;34m,\u001b[0m \u001b[0mvision_logit\u001b[0m\u001b[0;34m,\u001b[0m \u001b[0mlinguisic_prediction\u001b[0m\u001b[0;34m,\u001b[0m \u001b[0mlinguisic_logit\u001b[0m\u001b[0;34m,\u001b[0m \u001b[0mall_attention_mask\u001b[0m\u001b[0;34m,\u001b[0m \u001b[0msequence_output_v\u001b[0m \u001b[0;34m=\u001b[0m \u001b[0mmodel\u001b[0m\u001b[0;34m(\u001b[0m\u001b[0mtextInput\u001b[0m\u001b[0;34m,\u001b[0m\u001b[0mimagefeature\u001b[0m\u001b[0;34m,\u001b[0m\u001b[0mspatials\u001b[0m\u001b[0;34m,\u001b[0m \u001b[0msegment_ids\u001b[0m\u001b[0;34m,\u001b[0m \u001b[0minput_mask\u001b[0m\u001b[0;34m,\u001b[0m \u001b[0mimage_mask\u001b[0m\u001b[0;34m,\u001b[0m \u001b[0mco_attention_mask\u001b[0m \u001b[0;34m)\u001b[0m\u001b[0;34m\u001b[0m\u001b[0;34m\u001b[0m\u001b[0m\n\u001b[0m\u001b[1;32m      3\u001b[0m \u001b[0;34m\u001b[0m\u001b[0m\n\u001b[1;32m      4\u001b[0m \u001b[0;34m\u001b[0m\u001b[0m\n\u001b[1;32m      5\u001b[0m \u001b[0mprint\u001b[0m\u001b[0;34m(\u001b[0m\u001b[0mimagefeature\u001b[0m\u001b[0;34m.\u001b[0m\u001b[0mshape\u001b[0m\u001b[0;34m)\u001b[0m\u001b[0;34m\u001b[0m\u001b[0;34m\u001b[0m\u001b[0m\n",
      "\u001b[0;31mNameError\u001b[0m: name 'imagefeature' is not defined"
     ]
    }
   ],
   "source": [
    "\n",
    "\n"
   ]
  },
  {
   "cell_type": "code",
   "execution_count": 6,
   "metadata": {},
   "outputs": [],
   "source": [
    "from vilbert.datasets.ImageClassificationDataset import get_data_loader as dl\n",
    "dataloader = dl(\"data/val.jsonline\",\"data/prueba.lmdb/\")\n",
    "textInput, features, spatials, segment_ids, input_mask, image_mask, co_attention_mask, target,= next(iter(dataloader))\n",
    "\n",
    "\n",
    "#print(model)"
   ]
  },
  {
   "cell_type": "code",
   "execution_count": 8,
   "metadata": {},
   "outputs": [
    {
     "name": "stdout",
     "output_type": "stream",
     "text": [
      "torch.Size([16, 350])\n"
     ]
    }
   ],
   "source": [
    "newmodel.eval()\n",
    "imagelogits, no, _, _, _, _, _, _, _, _, _, _, _, = newmodel(textInput, features, spatials, segment_ids, input_mask, image_mask, co_attention_mask)\n",
    "\n",
    "\n",
    "print(imagelogits)\n"
   ]
  },
  {
   "cell_type": "code",
   "execution_count": 11,
   "metadata": {},
   "outputs": [
    {
     "name": "stderr",
     "output_type": "stream",
     "text": [
      "07/07/2022 14:54:55 - INFO - vilbert.utils -   loading weights file save/pretrained_model.bin\n",
      "07/07/2022 14:55:04 - INFO - vilbert.utils -   Weights of VILBertForVLTasks not initialized from pretrained model: ['vil_prediction.logit_fc.0.weight', 'vil_prediction.logit_fc.0.bias', 'vil_prediction.logit_fc.2.weight', 'vil_prediction.logit_fc.2.bias', 'vil_prediction.logit_fc.3.weight', 'vil_prediction.logit_fc.3.bias', 'vil_prediction_gqa.logit_fc.0.weight', 'vil_prediction_gqa.logit_fc.0.bias', 'vil_prediction_gqa.logit_fc.2.weight', 'vil_prediction_gqa.logit_fc.2.bias', 'vil_prediction_gqa.logit_fc.3.weight', 'vil_prediction_gqa.logit_fc.3.bias', 'vil_binary_prediction.logit_fc.0.weight', 'vil_binary_prediction.logit_fc.0.bias', 'vil_binary_prediction.logit_fc.2.weight', 'vil_binary_prediction.logit_fc.2.bias', 'vil_binary_prediction.logit_fc.3.weight', 'vil_binary_prediction.logit_fc.3.bias', 'vil_logit.weight', 'vil_logit.bias', 'vil_tri_prediction.weight', 'vil_tri_prediction.bias', 'vision_logit.weight', 'vision_logit.bias', 'linguisic_logit.weight', 'linguisic_logit.bias']\n"
     ]
    }
   ],
   "source": [
    "from vilbert.vilbertImageClassification import VILBertForImageClassification\n",
    "\n",
    "model = VILBertForImageClassification(args.config_file, 350,args.from_pretrained)"
   ]
  },
  {
   "cell_type": "code",
   "execution_count": 1,
   "metadata": {},
   "outputs": [],
   "source": [
    "import torch\n",
    "import torch.distributed as dist\n",
    "import torch.nn as nn\n",
    "\n",
    "\n",
    "import numpy as np\n",
    "import random \n",
    "\n",
    "\n",
    "import argparse\n",
    "\n",
    "from vilbert.vilbert import BertConfig\n",
    "from vilbert.vilbertImageClassification import VILBertForImageClassification\n",
    "\n",
    "from pytorch_transformers.optimization import (\n",
    "    AdamW\n",
    ")\n",
    "\n",
    "from torch.optim.lr_scheduler import (\n",
    "    LambdaLR\n",
    ")\n",
    "from torch.nn import CrossEntropyLoss\n",
    "\n",
    "import json\n"
   ]
  },
  {
   "cell_type": "code",
   "execution_count": 3,
   "metadata": {},
   "outputs": [],
   "source": [
    "bert_weight_name = json.load(\n",
    "        open(\"config/bert-base-uncased_weight_name.json\", \"r\")\n",
    "    )\n",
    "    #config = BertConfig.from_json_file(args.config_file)\n",
    "\n",
    "model = VILBertForImageClassification(\"config/bert_base_6layer_6conect.json\", 350, \"bert-base-uncased\")\n",
    "#model = nn.DataParallel(model)\n",
    "#torch.cuda.set_device(device)\n",
    "#model.cuda(device)\n",
    "\n",
    "#criterion = CrossEntropyLoss()"
   ]
  },
  {
   "cell_type": "code",
   "execution_count": 10,
   "metadata": {},
   "outputs": [
    {
     "name": "stdout",
     "output_type": "stream",
     "text": [
      "ImageClassifFC.0.weight tensor([[ 0.0030, -0.0289, -0.0169,  ...,  0.0226, -0.0163,  0.0220],\n",
      "        [-0.0202, -0.0239, -0.0243,  ..., -0.0305,  0.0045,  0.0158],\n",
      "        [ 0.0086,  0.0094,  0.0218,  ..., -0.0134, -0.0232, -0.0041],\n",
      "        ...,\n",
      "        [-0.0138, -0.0085,  0.0085,  ..., -0.0230,  0.0280, -0.0004],\n",
      "        [ 0.0045,  0.0264,  0.0193,  ...,  0.0221,  0.0223,  0.0104],\n",
      "        [ 0.0038, -0.0163,  0.0232,  ...,  0.0009, -0.0035, -0.0078]])\n",
      "ImageClassifFC.0.bias tensor([-0.0064,  0.0047, -0.0117,  ..., -0.0152,  0.0005, -0.0189])\n",
      "ImageClassifFC.2.weight tensor([1., 1., 1.,  ..., 1., 1., 1.])\n",
      "ImageClassifFC.2.bias tensor([0., 0., 0.,  ..., 0., 0., 0.])\n",
      "ImageClassifFC.3.weight tensor([[-0.0013, -0.0036, -0.0080,  ..., -0.0012,  0.0156, -0.0160],\n",
      "        [-0.0012,  0.0095, -0.0097,  ..., -0.0109, -0.0102, -0.0109],\n",
      "        [ 0.0125, -0.0198,  0.0139,  ...,  0.0031,  0.0178, -0.0206],\n",
      "        ...,\n",
      "        [ 0.0157, -0.0095,  0.0171,  ...,  0.0063,  0.0200,  0.0081],\n",
      "        [-0.0018,  0.0062, -0.0131,  ..., -0.0164,  0.0186, -0.0203],\n",
      "        [-0.0116,  0.0114,  0.0123,  ...,  0.0105,  0.0136, -0.0092]])\n",
      "ImageClassifFC.3.bias tensor([ 1.4884e-03, -1.0593e-02,  1.9740e-02,  1.2269e-02, -7.2317e-03,\n",
      "         8.0585e-03,  1.1936e-02, -1.0952e-02, -1.9061e-02, -1.8232e-02,\n",
      "        -1.2654e-03, -1.1802e-02,  1.7406e-02, -7.6392e-03,  1.8482e-02,\n",
      "         1.7064e-02, -1.3305e-02,  1.7481e-03,  2.7093e-03, -1.8628e-02,\n",
      "         2.1324e-02,  1.1526e-02,  1.0816e-02,  2.0386e-02, -5.4880e-03,\n",
      "        -1.5699e-03,  7.0493e-03,  8.3247e-03,  2.1929e-02,  2.1708e-02,\n",
      "        -1.8411e-02,  1.2467e-02,  1.3469e-02, -1.6138e-02, -1.3321e-02,\n",
      "        -2.1645e-02,  1.5859e-02, -1.5382e-02,  1.9247e-02,  3.7924e-03,\n",
      "        -1.9589e-03, -9.3311e-03,  2.1602e-02,  1.3440e-02, -2.1495e-02,\n",
      "         1.0772e-02, -8.2351e-03,  8.7111e-03, -1.8353e-02, -1.5146e-02,\n",
      "        -1.4205e-02,  4.5302e-03, -1.7637e-02,  1.0638e-02, -2.1203e-03,\n",
      "        -8.1950e-03, -1.4726e-03,  5.1847e-03, -6.3831e-03,  1.9263e-02,\n",
      "         7.2177e-03,  1.3083e-02, -2.1334e-02, -6.0480e-03,  8.6325e-03,\n",
      "        -1.2960e-02,  1.0080e-02,  1.7534e-02, -1.7107e-02,  1.7466e-04,\n",
      "         1.9964e-02,  4.4444e-03,  8.2113e-03, -1.4486e-02,  1.5452e-02,\n",
      "        -1.6767e-03,  3.9373e-03,  1.7942e-02, -5.9320e-03, -1.0803e-02,\n",
      "        -1.0482e-02, -1.9265e-02,  3.3617e-03, -1.8469e-02,  1.2166e-03,\n",
      "        -4.8633e-03,  9.2193e-03, -1.9527e-02,  3.4773e-03,  1.8698e-02,\n",
      "         1.2508e-02,  1.3358e-02, -2.5071e-03, -1.2398e-02, -1.4405e-02,\n",
      "        -6.4469e-03, -2.1553e-02, -2.5777e-03, -2.0211e-02,  1.2123e-02,\n",
      "        -7.9132e-03,  7.5792e-03, -1.4986e-02, -1.2453e-02,  1.3550e-02,\n",
      "         1.0909e-02, -1.9606e-02,  1.3741e-03, -1.5147e-03,  6.8126e-03,\n",
      "         1.5673e-02, -1.4068e-02,  1.1348e-02, -4.8152e-03, -1.4779e-02,\n",
      "         1.8404e-03,  7.8024e-05, -2.8209e-03, -1.5439e-02, -5.7876e-03,\n",
      "         1.2890e-02,  5.1171e-03,  1.8483e-02,  9.2653e-03, -1.4062e-02,\n",
      "         6.9547e-03, -2.9037e-03, -1.2106e-02,  1.2136e-02,  4.3364e-03,\n",
      "        -3.5102e-03, -1.1742e-02,  5.8087e-03,  7.7567e-03,  6.3850e-03,\n",
      "        -1.3105e-02,  1.7871e-02,  1.0401e-02, -4.3080e-03, -8.5923e-03,\n",
      "        -1.8340e-02,  3.4683e-04,  1.7492e-02,  6.7965e-03,  1.0306e-02,\n",
      "        -1.0072e-02,  8.4621e-03,  9.4341e-03,  4.4840e-03,  6.6809e-03,\n",
      "        -3.0260e-03,  9.3519e-03,  1.3312e-02,  1.2466e-02, -7.5034e-03,\n",
      "         3.1244e-03,  2.1531e-02,  5.0892e-03,  1.7021e-02,  1.7612e-02,\n",
      "         1.5361e-02, -1.9132e-02, -1.6238e-02, -1.0170e-02,  4.2379e-03,\n",
      "        -2.5998e-03,  4.9403e-03, -1.4741e-02, -1.2019e-02, -4.9236e-04,\n",
      "        -1.4004e-02,  1.0298e-02, -1.1820e-02, -1.1384e-02, -7.3694e-05,\n",
      "         8.6157e-03,  1.3055e-02,  1.0879e-02,  8.5424e-03,  7.4449e-04,\n",
      "         6.8647e-03, -3.0857e-03,  4.7087e-03,  1.6835e-02,  1.5334e-02,\n",
      "        -1.5701e-03,  8.8304e-03, -2.7898e-03, -2.1739e-02,  1.5541e-02,\n",
      "         5.7230e-03,  1.7758e-02, -5.7495e-03, -1.6624e-03, -2.0339e-02,\n",
      "         1.0371e-02,  5.2990e-03,  1.3879e-02, -1.3782e-02, -1.0064e-02,\n",
      "        -1.9741e-02,  2.1858e-02, -1.7970e-02, -3.4074e-03,  1.8686e-02,\n",
      "         2.1679e-02, -5.4441e-03,  1.1610e-02, -1.9081e-02, -2.9534e-03,\n",
      "        -6.9236e-03,  6.1562e-03,  1.9431e-02, -2.0368e-02,  7.9468e-04,\n",
      "        -7.6925e-03,  5.9314e-03,  3.4887e-04,  6.7963e-03,  8.5688e-03,\n",
      "         6.4062e-03,  1.1072e-02, -2.0357e-02, -7.5727e-03, -1.5829e-02,\n",
      "         4.4957e-03,  1.0915e-03,  2.0494e-02, -6.1794e-03, -6.4529e-03,\n",
      "        -1.7570e-02,  2.0668e-02,  1.6839e-02, -1.3793e-02, -6.7056e-03,\n",
      "         4.2204e-03, -4.9281e-03,  2.3440e-03,  1.3882e-02, -1.7602e-03,\n",
      "         1.6338e-02,  1.4013e-02,  3.5354e-03,  8.5901e-03, -1.9294e-02,\n",
      "        -6.8708e-03,  1.7958e-02, -1.9935e-02, -1.6064e-02,  2.0075e-02,\n",
      "        -1.6620e-02, -9.8728e-03,  2.1185e-02, -1.0195e-03, -2.1136e-02,\n",
      "         9.7820e-03,  5.7656e-03, -1.6183e-02, -1.7564e-03,  5.1776e-03,\n",
      "        -1.1922e-02, -7.8616e-03,  9.1533e-03, -1.8837e-02, -1.3452e-02,\n",
      "        -1.3909e-02, -1.4454e-02, -1.1361e-02, -7.9981e-03,  7.3523e-03,\n",
      "         2.1661e-02, -9.5058e-03,  1.8720e-02,  1.7007e-02,  6.6689e-03,\n",
      "        -1.2937e-02, -1.5944e-02,  1.1437e-02,  1.5891e-02, -2.1687e-02,\n",
      "         1.6730e-02,  1.2951e-02,  1.0277e-03,  1.6362e-02, -3.4824e-03,\n",
      "        -2.5163e-03, -6.3602e-04, -1.7129e-02,  1.7883e-02, -4.2637e-04,\n",
      "         3.3909e-03,  5.0338e-03, -1.4894e-02, -8.9174e-04,  3.7233e-03,\n",
      "        -1.6347e-02, -1.5825e-02,  1.9071e-02,  1.4004e-02, -1.4173e-02,\n",
      "        -2.5751e-03, -2.0929e-02, -1.3266e-02,  1.8776e-02,  3.2652e-04,\n",
      "         1.2188e-02,  1.9948e-02,  1.0027e-02,  8.2476e-03, -4.8108e-03,\n",
      "        -1.9614e-02,  9.0040e-03, -1.6337e-02, -2.0402e-02,  2.0997e-03,\n",
      "        -1.0728e-02, -1.0265e-02,  8.5486e-03, -9.1639e-03, -8.3126e-03,\n",
      "        -2.0588e-02, -1.5665e-02, -4.1861e-03,  9.0568e-03,  1.3686e-02,\n",
      "        -2.0685e-02, -4.6769e-03, -1.4972e-02,  1.4377e-02, -7.0944e-03,\n",
      "        -1.5832e-02, -3.4735e-03,  1.1490e-02,  1.5112e-02, -1.1145e-02,\n",
      "        -1.4402e-02,  1.7062e-02, -9.4031e-03, -2.1563e-02,  9.9795e-03,\n",
      "        -8.5972e-03,  9.4463e-03, -1.5054e-02, -1.4038e-02,  1.2253e-03,\n",
      "        -9.5089e-03, -1.0698e-02, -9.1306e-03, -4.4063e-03, -4.5511e-03])\n"
     ]
    }
   ],
   "source": [
    "#for param in model.named_modules():\n",
    "#print(model.vilbertBase.requires_grad_(False))\n",
    "for name, param in model.named_parameters():\n",
    "    if param.requires_grad:\n",
    "        print(name, param.data)"
   ]
  },
  {
   "cell_type": "code",
   "execution_count": 12,
   "metadata": {},
   "outputs": [
    {
     "name": "stdout",
     "output_type": "stream",
     "text": [
      "tensor(1.8730, grad_fn=<NllLossBackward0>)\n"
     ]
    }
   ],
   "source": [
    "loss = nn.CrossEntropyLoss()\n",
    "input = torch.randn(3, 5, requires_grad=True)\n",
    "target = torch.empty(3, dtype=torch.long).random_(5)\n",
    "output = loss(input, target)\n",
    "output.backward()\n",
    "\n",
    "print(output) "
   ]
  },
  {
   "cell_type": "code",
   "execution_count": 6,
   "metadata": {},
   "outputs": [
    {
     "data": {
      "image/png": "[encoded data removed]",
      "text/plain": [
       "<Figure size 576x396 with 1 Axes>"
      ]
     },
     "metadata": {},
     "output_type": "display_data"
    },
    {
     "data": {
      "image/png": "[encoded data removed]",
      "text/plain": [
       "<Figure size 576x396 with 1 Axes>"
      ]
     },
     "metadata": {},
     "output_type": "display_data"
    }
   ],
   "source": [
    "import matplotlib.pyplot as plt\n",
    "import csv \n",
    "\n",
    "plt.style.use(['seaborn'])\n",
    "\n",
    "data = [1,2,3,5,6,10,15,14,13,22,21,32]\n",
    "data3 = [0,7,33,1,6,0,12,10,1,29,26,31]\n",
    "data1 = [1,2,3,5,6,]\n",
    "\n",
    "\n",
    "plt.figure(1)\n",
    "plt.plot(data,\"m-o\", label=\"Train Loss\")\n",
    "plt.plot(data3,\"-p\" ,label=\"Train Loss\")\n",
    "plt.xlabel(\"Epochs\")\n",
    "plt.ylabel(\"Loss\")\n",
    "plt.savefig(\"hola.png\")\n",
    "plt.legend()\n",
    "\n",
    "\n",
    "\n",
    "plt.figure(2)\n",
    "plt.plot(data1,\"y-\")\n",
    "\n",
    "plt.title(\"hola\")\n",
    "plt.xlabel(\"epoch\")\n",
    "\n",
    "plt.savefig(\"nnnn.png\")\n",
    "\n",
    "with open(\"sape.csv\", \"w\") as f:\n",
    "    write = csv.writer(f)\n",
    "    write.writerow(data)\n",
    "    write.writerow(data3)"
   ]
  }
 ],
 "metadata": {
  "kernelspec": {
   "display_name": "Python 3.6.13 ('vilbert')",
   "language": "python",
   "name": "python3"
  },
  "language_info": {
   "codemirror_mode": {
    "name": "ipython",
    "version": 3
   },
   "file_extension": ".py",
   "mimetype": "text/x-python",
   "name": "python",
   "nbconvert_exporter": "python",
   "pygments_lexer": "ipython3",
   "version": "3.6.13"
  },
  "orig_nbformat": 4,
  "vscode": {
   "interpreter": {
    "hash": "93bce79a079b44c133ba503895cdd392f354222c36cd05d43ce3c824f7e888c6"
   }
  }
 },
 "nbformat": 4,
 "nbformat_minor": 2
}
