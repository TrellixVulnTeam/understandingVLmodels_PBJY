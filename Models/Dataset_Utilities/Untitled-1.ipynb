{
 "cells": [
  {
   "cell_type": "code",
   "execution_count": 10,
   "metadata": {},
   "outputs": [],
   "source": [
    "import pandas as pd\n",
    "import numpy as np\n",
    "\n",
    "sape = pd.read_csv(\"valid_obj36.tsv\", sep=\"\\t\",header=None, names=[\"img_id\", \"img_h\", \"img_w\", \"objects_id\", \"objects_conf\",\n",
    "              \"attrs_id\", \"attrs_conf\", \"num_boxes\", \"boxes\", \"features\"])"
   ]
  },
  {
   "cell_type": "code",
   "execution_count": 5,
   "metadata": {},
   "outputs": [
    {
     "ename": "IndentationError",
     "evalue": "expected an indented block (<ipython-input-5-2fd71986e2e8>, line 9)",
     "output_type": "error",
     "traceback": [
      "\u001b[0;36m  File \u001b[0;32m\"<ipython-input-5-2fd71986e2e8>\"\u001b[0;36m, line \u001b[0;32m9\u001b[0m\n\u001b[0;31m    reader = csv.DictReader(f,fieldnames=field,delimiter=\"\\t\")\u001b[0m\n\u001b[0m         ^\u001b[0m\n\u001b[0;31mIndentationError\u001b[0m\u001b[0;31m:\u001b[0m expected an indented block\n"
     ]
    }
   ],
   "source": [
    "import csv\n",
    "import sys\n",
    "\n",
    "field = [\"1\",\"2\",\"3\",\"4\",\"5\",\"6\",\"7\",\"8\",\"9\",\"10\",]\n",
    "csv.field_size_limit(sys.maxsize)\n",
    "with open(\"valid_obj36.tsv\") as f:\n",
    "    reader = csv.DictReader(f,fieldnames=field,delimiter=\"\\t\")\n",
    "    for i,item in enumerate(reader):\n",
    "        print(item)"
   ]
  },
  {
   "cell_type": "code",
   "execution_count": 37,
   "metadata": {},
   "outputs": [
    {
     "ename": "TypeError",
     "evalue": "unhashable type: 'list'",
     "output_type": "error",
     "traceback": [
      "\u001b[0;31m---------------------------------------------------------------------------\u001b[0m",
      "\u001b[0;31mTypeError\u001b[0m                                 Traceback (most recent call last)",
      "\u001b[0;32m<ipython-input-37-589b15efd843>\u001b[0m in \u001b[0;36m<module>\u001b[0;34m\u001b[0m\n\u001b[1;32m      4\u001b[0m df = pd.DataFrame({'foo sape bar foo bar foo bar foo foo'.split(),\n\u001b[1;32m      5\u001b[0m                    \u001b[0;34m'one sape one two three two two one three'\u001b[0m\u001b[0;34m.\u001b[0m\u001b[0msplit\u001b[0m\u001b[0;34m(\u001b[0m\u001b[0;34m)\u001b[0m\u001b[0;34m,\u001b[0m\u001b[0;34m\u001b[0m\u001b[0;34m\u001b[0m\u001b[0m\n\u001b[0;32m----> 6\u001b[0;31m                    np.arange(9), np.arange(9) * 2})\n\u001b[0m",
      "\u001b[0;31mTypeError\u001b[0m: unhashable type: 'list'"
     ]
    }
   ],
   "source": [
    "h = \"hola-que-tal\"\n",
    "s = \"hola-que\"\n",
    "\n",
    "df = pd.DataFrame({'foo sape bar foo bar foo bar foo foo'.split(),\n",
    "                   'one sape one two three two two one three'.split(),\n",
    "                   np.arange(9), np.arange(9) * 2})"
   ]
  },
  {
   "cell_type": "code",
   "execution_count": 35,
   "metadata": {},
   "outputs": [
    {
     "name": "stdout",
     "output_type": "stream",
     "text": [
      "['sape' 'sape' 1 2]\n"
     ]
    }
   ],
   "source": [
    "print(df.loc[df[\"A\"]== \"sape\"].values[0])"
   ]
  },
  {
   "cell_type": "code",
   "execution_count": null,
   "metadata": {},
   "outputs": [],
   "source": [
    "no = pd.read_csv(\"prueba.txt\", delimiter=\" \", header=None)\n",
    "print(no)\n",
    "\n",
    "no = no.drop(no[no[0] == \"Places365_val_00000001.jpg\"].index)\n",
    "\n",
    "print(no)\n",
    "#print(no.loc[no[0]==\"Places365_val_00000001.jpg\"].values[0])\n",
    "#for i, d in no.iterrows():\n",
    " #   print(d.values)\n",
    "\n",
    "no.to_csv(\"sape.txt\", sep=\" \", header=False, index = False)"
   ]
  },
  {
   "cell_type": "code",
   "execution_count": null,
   "metadata": {},
   "outputs": [],
   "source": []
  }
 ],
 "metadata": {
  "kernelspec": {
   "display_name": "Python 3.6.13 ('vilbert')",
   "language": "python",
   "name": "python3"
  },
  "language_info": {
   "codemirror_mode": {
    "name": "ipython",
    "version": 3
   },
   "file_extension": ".py",
   "mimetype": "text/x-python",
   "name": "python",
   "nbconvert_exporter": "python",
   "pygments_lexer": "ipython3",
   "version": "3.6.13"
  },
  "orig_nbformat": 4,
  "vscode": {
   "interpreter": {
    "hash": "93bce79a079b44c133ba503895cdd392f354222c36cd05d43ce3c824f7e888c6"
   }
  }
 },
 "nbformat": 4,
 "nbformat_minor": 2
}
