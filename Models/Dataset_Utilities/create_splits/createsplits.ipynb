{
 "cells": [
  {
   "cell_type": "code",
   "execution_count": 10,
   "metadata": {},
   "outputs": [
    {
     "name": "stdout",
     "output_type": "stream",
     "text": [
      "328500\n",
      "1474947\n",
      "(1474947, 2)\n",
      "(328500, 2)\n"
     ]
    }
   ],
   "source": [
    "import pandas as pd \n",
    "\n",
    "sape = pd.read_csv(\"places365_train_standard_fixed.txt\", sep=\" \",header=None)\n",
    "train = []\n",
    "test = []\n",
    "for i in range(365):\n",
    "    part = sape.loc[sape[1]==i].values.tolist()\n",
    "    test += part[:900] \n",
    "    train += part[900:]\n",
    "\n",
    "\n",
    "print(len(test))\n",
    "print(len(train))\n",
    "\n",
    "traindf = pd.DataFrame(train)\n",
    "testdf = pd.DataFrame(test)\n",
    "\n",
    "print(traindf.shape)\n",
    "print(testdf.shape)\n",
    "\n",
    "traindf.to_csv(\"places365_train_alexsplit.txt\", sep=\" \", header=False,  index=False)\n",
    "testdf.to_csv(\"places365_test_alexsplit.txt\", sep=\" \", header=False,  index=False)\n",
    "\n"
   ]
  },
  {
   "cell_type": "code",
   "execution_count": 1,
   "metadata": {},
   "outputs": [
    {
     "name": "stdout",
     "output_type": "stream",
     "text": [
      "3650\n",
      "0\n",
      "(3650, 2)\n"
     ]
    }
   ],
   "source": [
    "import pandas as pd \n",
    "from random import sample\n",
    "\n",
    "sape = pd.read_csv(\"places365_test_alexsplit.txt\", sep=\" \",header=None)\n",
    "train = []\n",
    "testRetrieval = []\n",
    "for i in range(365):\n",
    "    part = sape.loc[sape[1]==i].values.tolist()\n",
    "    testRetrieval += sample(part,10)\n",
    "    #train += part[900:]\n",
    "\n",
    "\n",
    "print(len(testRetrieval))\n",
    "print(len(train))\n",
    "\n",
    "#traindf = pd.DataFrame(train)\n",
    "testdf = pd.DataFrame(testRetrieval)\n",
    "\n",
    "#print(traindf.shape)\n",
    "print(testdf.shape)\n",
    "\n",
    "#traindf.to_csv(\"places365_train_alexsplit.txt\", sep=\" \", header=False,  index=False)\n",
    "testdf.to_csv(\"places365_test_10retrieval.txt\", sep=\" \", header=False,  index=False)"
   ]
  }
 ],
 "metadata": {
  "kernelspec": {
   "display_name": "Python 3.6.13 ('vilbert')",
   "language": "python",
   "name": "python3"
  },
  "language_info": {
   "codemirror_mode": {
    "name": "ipython",
    "version": 3
   },
   "file_extension": ".py",
   "mimetype": "text/x-python",
   "name": "python",
   "nbconvert_exporter": "python",
   "pygments_lexer": "ipython3",
   "version": "3.6.13"
  },
  "orig_nbformat": 4,
  "vscode": {
   "interpreter": {
    "hash": "93bce79a079b44c133ba503895cdd392f354222c36cd05d43ce3c824f7e888c6"
   }
  }
 },
 "nbformat": 4,
 "nbformat_minor": 2
}
